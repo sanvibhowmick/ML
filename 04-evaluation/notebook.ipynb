{
 "cells": [
  {
   "cell_type": "code",
   "execution_count": 1,
   "id": "32503542",
   "metadata": {},
   "outputs": [],
   "source": [
    "import numpy as np\n",
    "import pandas as pd\n"
   ]
  },
  {
   "cell_type": "code",
   "execution_count": 2,
   "id": "8541e2fb",
   "metadata": {},
   "outputs": [
    {
     "name": "stdout",
     "output_type": "stream",
     "text": [
      "--2025-10-26 05:02:58--  https://raw.githubusercontent.com/alexeygrigorev/datasets/master/course_lead_scoring.csv\n",
      "Resolving raw.githubusercontent.com (raw.githubusercontent.com)... 185.199.109.133, 185.199.110.133, 185.199.111.133, ...\n",
      "Connecting to raw.githubusercontent.com (raw.githubusercontent.com)|185.199.109.133|:443... connected.\n",
      "HTTP request sent, awaiting response... 200 OK\n",
      "Length: 80876 (79K) [text/plain]\n",
      "Saving to: ‘leads.csv’\n",
      "\n",
      "leads.csv           100%[===================>]  78.98K  --.-KB/s    in 0.07s   \n",
      "\n",
      "2025-10-26 05:02:59 (1.04 MB/s) - ‘leads.csv’ saved [80876/80876]\n",
      "\n"
     ]
    }
   ],
   "source": [
    "!wget -O leads.csv https://raw.githubusercontent.com/alexeygrigorev/datasets/master/course_lead_scoring.csv\n"
   ]
  },
  {
   "cell_type": "code",
   "execution_count": 3,
   "id": "513f25c7",
   "metadata": {},
   "outputs": [
    {
     "data": {
      "text/html": [
       "<div>\n",
       "<style scoped>\n",
       "    .dataframe tbody tr th:only-of-type {\n",
       "        vertical-align: middle;\n",
       "    }\n",
       "\n",
       "    .dataframe tbody tr th {\n",
       "        vertical-align: top;\n",
       "    }\n",
       "\n",
       "    .dataframe thead th {\n",
       "        text-align: right;\n",
       "    }\n",
       "</style>\n",
       "<table border=\"1\" class=\"dataframe\">\n",
       "  <thead>\n",
       "    <tr style=\"text-align: right;\">\n",
       "      <th></th>\n",
       "      <th>lead_source</th>\n",
       "      <th>industry</th>\n",
       "      <th>number_of_courses_viewed</th>\n",
       "      <th>annual_income</th>\n",
       "      <th>employment_status</th>\n",
       "      <th>location</th>\n",
       "      <th>interaction_count</th>\n",
       "      <th>lead_score</th>\n",
       "      <th>converted</th>\n",
       "    </tr>\n",
       "  </thead>\n",
       "  <tbody>\n",
       "    <tr>\n",
       "      <th>0</th>\n",
       "      <td>paid_ads</td>\n",
       "      <td>NaN</td>\n",
       "      <td>1</td>\n",
       "      <td>79450.0</td>\n",
       "      <td>unemployed</td>\n",
       "      <td>south_america</td>\n",
       "      <td>4</td>\n",
       "      <td>0.94</td>\n",
       "      <td>1</td>\n",
       "    </tr>\n",
       "    <tr>\n",
       "      <th>1</th>\n",
       "      <td>social_media</td>\n",
       "      <td>retail</td>\n",
       "      <td>1</td>\n",
       "      <td>46992.0</td>\n",
       "      <td>employed</td>\n",
       "      <td>south_america</td>\n",
       "      <td>1</td>\n",
       "      <td>0.80</td>\n",
       "      <td>0</td>\n",
       "    </tr>\n",
       "    <tr>\n",
       "      <th>2</th>\n",
       "      <td>events</td>\n",
       "      <td>healthcare</td>\n",
       "      <td>5</td>\n",
       "      <td>78796.0</td>\n",
       "      <td>unemployed</td>\n",
       "      <td>australia</td>\n",
       "      <td>3</td>\n",
       "      <td>0.69</td>\n",
       "      <td>1</td>\n",
       "    </tr>\n",
       "    <tr>\n",
       "      <th>3</th>\n",
       "      <td>paid_ads</td>\n",
       "      <td>retail</td>\n",
       "      <td>2</td>\n",
       "      <td>83843.0</td>\n",
       "      <td>NaN</td>\n",
       "      <td>australia</td>\n",
       "      <td>1</td>\n",
       "      <td>0.87</td>\n",
       "      <td>0</td>\n",
       "    </tr>\n",
       "    <tr>\n",
       "      <th>4</th>\n",
       "      <td>referral</td>\n",
       "      <td>education</td>\n",
       "      <td>3</td>\n",
       "      <td>85012.0</td>\n",
       "      <td>self_employed</td>\n",
       "      <td>europe</td>\n",
       "      <td>3</td>\n",
       "      <td>0.62</td>\n",
       "      <td>1</td>\n",
       "    </tr>\n",
       "  </tbody>\n",
       "</table>\n",
       "</div>"
      ],
      "text/plain": [
       "    lead_source    industry  number_of_courses_viewed  annual_income  \\\n",
       "0      paid_ads         NaN                         1        79450.0   \n",
       "1  social_media      retail                         1        46992.0   \n",
       "2        events  healthcare                         5        78796.0   \n",
       "3      paid_ads      retail                         2        83843.0   \n",
       "4      referral   education                         3        85012.0   \n",
       "\n",
       "  employment_status       location  interaction_count  lead_score  converted  \n",
       "0        unemployed  south_america                  4        0.94          1  \n",
       "1          employed  south_america                  1        0.80          0  \n",
       "2        unemployed      australia                  3        0.69          1  \n",
       "3               NaN      australia                  1        0.87          0  \n",
       "4     self_employed         europe                  3        0.62          1  "
      ]
     },
     "execution_count": 3,
     "metadata": {},
     "output_type": "execute_result"
    }
   ],
   "source": [
    "df=pd.read_csv(\"leads.csv\")\n",
    "df.head()"
   ]
  },
  {
   "cell_type": "code",
   "execution_count": 4,
   "id": "ab809c3f",
   "metadata": {},
   "outputs": [],
   "source": [
    "categorical=['lead_source', 'industry','employment_status', 'location']\n",
    "numerical=['number_of_courses_viewed', 'annual_income','interaction_count', 'lead_score']"
   ]
  },
  {
   "cell_type": "code",
   "execution_count": 5,
   "id": "aa7c11fa",
   "metadata": {},
   "outputs": [
    {
     "data": {
      "text/plain": [
       "lead_source          128\n",
       "industry             134\n",
       "employment_status    100\n",
       "location              63\n",
       "dtype: int64"
      ]
     },
     "execution_count": 5,
     "metadata": {},
     "output_type": "execute_result"
    }
   ],
   "source": [
    "df[categorical].isnull().sum()"
   ]
  },
  {
   "cell_type": "code",
   "execution_count": 6,
   "id": "5cc56d18",
   "metadata": {},
   "outputs": [],
   "source": [
    "df[categorical]=df[categorical].fillna(\"NA\")"
   ]
  },
  {
   "cell_type": "code",
   "execution_count": 7,
   "id": "d79f8ffb",
   "metadata": {},
   "outputs": [
    {
     "data": {
      "text/plain": [
       "lead_source          0\n",
       "industry             0\n",
       "employment_status    0\n",
       "location             0\n",
       "dtype: int64"
      ]
     },
     "execution_count": 7,
     "metadata": {},
     "output_type": "execute_result"
    }
   ],
   "source": [
    "df[categorical].isnull().sum()"
   ]
  },
  {
   "cell_type": "code",
   "execution_count": 8,
   "id": "72c65d76",
   "metadata": {},
   "outputs": [
    {
     "data": {
      "text/plain": [
       "number_of_courses_viewed      0\n",
       "annual_income               181\n",
       "interaction_count             0\n",
       "lead_score                    0\n",
       "dtype: int64"
      ]
     },
     "execution_count": 8,
     "metadata": {},
     "output_type": "execute_result"
    }
   ],
   "source": [
    "df[numerical].isnull().sum()"
   ]
  },
  {
   "cell_type": "code",
   "execution_count": 9,
   "id": "4bc28854",
   "metadata": {},
   "outputs": [],
   "source": [
    "df[numerical]=df[numerical].fillna(0)"
   ]
  },
  {
   "cell_type": "code",
   "execution_count": 10,
   "id": "c5527b93",
   "metadata": {},
   "outputs": [
    {
     "data": {
      "text/plain": [
       "number_of_courses_viewed    0\n",
       "annual_income               0\n",
       "interaction_count           0\n",
       "lead_score                  0\n",
       "dtype: int64"
      ]
     },
     "execution_count": 10,
     "metadata": {},
     "output_type": "execute_result"
    }
   ],
   "source": [
    "df[numerical].isnull().sum()\n"
   ]
  },
  {
   "cell_type": "code",
   "execution_count": 11,
   "id": "3ea3955e",
   "metadata": {},
   "outputs": [],
   "source": [
    "from sklearn.model_selection import train_test_split\n",
    "df_full_train,df_test=train_test_split(df,test_size=0.2,random_state=1)\n",
    "df_train,df_val=train_test_split(df_full_train,test_size=0.25,random_state=1)"
   ]
  },
  {
   "cell_type": "code",
   "execution_count": null,
   "id": "7f8ea0e1",
   "metadata": {},
   "outputs": [],
   "source": [
    "df_train=df_train.reset_index(drop=True)\n",
    "df_val=df_val.reset_index(drop=True)\n",
    "df_test=df_test.reset_index(drop=True)\n",
    "\n",
    "y_train = df_train['converted'].values\n",
    "y_val   = df_val['converted'].values\n",
    "y_test  = df_test['converted'].values\n"
   ]
  },
  {
   "cell_type": "code",
   "execution_count": 17,
   "id": "17dae9a8",
   "metadata": {},
   "outputs": [
    {
     "name": "stdout",
     "output_type": "stream",
     "text": [
      "number_of_courses_viewed : 0.7635680590007088\n",
      "annual_income : 0.5519578313253012\n",
      "interaction_count : 0.738270176293409\n",
      "lead_score : 0.6144993577250176\n",
      "\n",
      "number_of_courses_viewed has the highest aoc score\n"
     ]
    }
   ],
   "source": [
    "from sklearn.metrics import roc_auc_score\n",
    "m=0\n",
    "column=\"\"\n",
    "\n",
    "for c in numerical:\n",
    "    if (roc_auc_score(y_train,df_train[c])<0):\n",
    "        score=roc_auc_score(y_train,-df_train[c])\n",
    "    else:\n",
    "        score=roc_auc_score(y_train,df_train[c])\n",
    "    if(score>m):\n",
    "        column=c\n",
    "        m=score\n",
    "    print(c,\":\",score)\n",
    "print()\n",
    "print(column,\"has the highest aoc score\")\n"
   ]
  },
  {
   "cell_type": "code",
   "execution_count": 18,
   "id": "6d381abb",
   "metadata": {},
   "outputs": [],
   "source": [
    "from sklearn.feature_extraction import DictVectorizer\n",
    "dicts=df_train[categorical+numerical].to_dict(orient=\"records\")\n",
    "dv=DictVectorizer(sparse=False)\n",
    "X_train=dv.fit_transform(dicts)\n",
    "dicts1=df_val[categorical+numerical].to_dict(orient=\"records\")\n",
    "\n",
    "X_val=dv.transform(dicts1)\n"
   ]
  },
  {
   "cell_type": "code",
   "execution_count": 34,
   "id": "f06a6dd1",
   "metadata": {},
   "outputs": [
    {
     "data": {
      "text/plain": [
       "0.647564950627936"
      ]
     },
     "execution_count": 34,
     "metadata": {},
     "output_type": "execute_result"
    }
   ],
   "source": [
    "from sklearn.linear_model import LogisticRegression\n",
    "model = LogisticRegression(solver='liblinear', C=1.0, max_iter=1000)\n",
    "model.fit(X_train,y_train)\n",
    "\n",
    "y_pred=model.predict(X_val)\n",
    "roc_auc_score(y_val,y_pred)"
   ]
  },
  {
   "cell_type": "code",
   "execution_count": 47,
   "id": "04966cb6",
   "metadata": {},
   "outputs": [
    {
     "name": "stdout",
     "output_type": "stream",
     "text": [
      "0.64\n"
     ]
    },
    {
     "data": {
      "image/png": "[encoded data removed]",
      "text/plain": [
       "<Figure size 640x480 with 1 Axes>"
      ]
     },
     "metadata": {},
     "output_type": "display_data"
    }
   ],
   "source": [
    "import numpy as np\n",
    "import matplotlib.pyplot as plt\n",
    "y_pred=model.predict_proba(X_val)[:,1]\n",
    "thresholds = np.arange(0.0, 1.01, 0.01)\n",
    "precisions = []\n",
    "recalls = []\n",
    "f1=[]\n",
    "for t in thresholds:\n",
    "    actual_pos = (y_val == 1)\n",
    "    actual_neg = (y_val == 0)\n",
    "    predict_pos = (y_pred >= t)\n",
    "    predict_neg = (y_pred < t)\n",
    "    \n",
    "    tp = (predict_pos & actual_pos).sum()\n",
    "    tn = (predict_neg & actual_neg).sum()\n",
    "    fp = (predict_pos & actual_neg).sum()\n",
    "    fn = (predict_neg & actual_pos).sum()\n",
    "    \n",
    "    precision = tp / (tp + fp) if (tp + fp) > 0 else 1.0\n",
    "    recall = tp / (tp + fn) if (tp + fn) > 0 else 0.0\n",
    "    \n",
    "    precisions.append(precision)\n",
    "    recalls.append(recall)\n",
    "    score=2*precision*recall/(precision+recall) \n",
    "    f1.append(score)\n",
    "\n",
    "precisions = np.array(precisions)\n",
    "recalls = np.array(recalls)\n",
    "\n",
    "diff = np.abs(precisions - recalls)\n",
    "idx = np.argmin(diff)\n",
    "intersect = thresholds[idx]\n",
    "\n",
    "print(intersect)\n",
    "\n",
    "\n",
    "plt.plot(thresholds, precisions, color=\"blue\", label=\"Precision\")\n",
    "plt.plot(thresholds, recalls, color=\"red\", label=\"Recall\")\n",
    "plt.scatter(intersect, precisions[idx], color=\"green\", s=100, label=f\"Intersection at {intersect:.3f}\")\n",
    "plt.xlabel(\"Threshold\")\n",
    "plt.ylabel(\"Value\")\n",
    "plt.title(\"Precision and Recall vs Threshold\")\n",
    "plt.legend()\n",
    "plt.grid(True)\n",
    "\n"
   ]
  },
  {
   "cell_type": "code",
   "execution_count": 48,
   "id": "04d85313",
   "metadata": {},
   "outputs": [
    {
     "name": "stdout",
     "output_type": "stream",
     "text": [
      "0.5700000000000001\n"
     ]
    },
    {
     "data": {
      "image/png": "[encoded data removed]",
      "text/plain": [
       "<Figure size 640x480 with 1 Axes>"
      ]
     },
     "metadata": {},
     "output_type": "display_data"
    }
   ],
   "source": [
    "f1= np.array(f1)\n",
    "inde=np.argmax(f1)\n",
    "m=thresholds[inde]\n",
    "print(m)\n",
    "plt.plot(thresholds,f1,color=\"green\")\n",
    "plt.scatter(m,f1[inde], color=\"red\",s=100,  label=f\"MAX AT {m:.3f}\")\n",
    "plt.xlabel(\"THRESHOLD\")\n",
    "plt.ylabel(\"F1-SCORE\")\n",
    "plt.grid(True)\n"
   ]
  },
  {
   "cell_type": "code",
   "execution_count": 55,
   "id": "df3b2be3",
   "metadata": {},
   "outputs": [
    {
     "name": "stdout",
     "output_type": "stream",
     "text": [
      "1e-06 : MEAN: 0.560207852870275 STD:  0.023798316620649906\n",
      "0.001 : MEAN: 0.8668780317675395 STD:  0.028746230508215103\n",
      "1 : MEAN: 0.8221089148573075 STD:  0.03580711942905165\n"
     ]
    }
   ],
   "source": [
    "def train(df, y,C):\n",
    "    dicts = df[categorical + numerical].to_dict(orient=\"records\")\n",
    "    dv = DictVectorizer(sparse=False)\n",
    "    X_train = dv.fit_transform(dicts)\n",
    "    model = LogisticRegression(solver='liblinear', C=C, max_iter=1000)\n",
    "    model.fit(X_train, y)\n",
    "    return dv, model\n",
    "\n",
    "def predict(df,dv,model):\n",
    "    dicts=df[categorical+numerical].to_dict(orient='records')\n",
    "    X=dv.transform(dicts)\n",
    "    y_pred=model.predict_proba(X)[:,1]\n",
    "    return y_pred\n",
    "\n",
    "    \n",
    "from sklearn.model_selection import KFold\n",
    "\n",
    "kfold=KFold(n_splits=5, shuffle=True, random_state=1)\n",
    "for c in [0.000001, 0.001, 1]:\n",
    "    scores=[]\n",
    "    for train_idx,val_idx in kfold.split(df_full_train):\n",
    "        df_train=df_full_train.iloc[train_idx]\n",
    "        df_val=df_full_train.iloc[val_idx]\n",
    "        y_train=df_train.converted.values\n",
    "        y_val=df_val.converted.values\n",
    "        dv,model=train(df_train,y_train,c)\n",
    "        y_pred=predict(df_val,dv,model)\n",
    "        auc=roc_auc_score(y_val,y_pred)\n",
    "        scores.append(auc)\n",
    "    scores=np.array(scores)\n",
    "    std=np.std(scores)\n",
    "    mean=np.mean(scores)\n",
    "    print(c,\": MEAN:\",mean,\"STD: \",std)\n",
    "\n",
    "\n",
    "\n",
    "\n"
   ]
  },
  {
   "cell_type": "code",
   "execution_count": null,
   "id": "8292d49b",
   "metadata": {},
   "outputs": [],
   "source": []
  }
 ],
 "metadata": {
  "kernelspec": {
   "display_name": "Python 3",
   "language": "python",
   "name": "python3"
  },
  "language_info": {
   "codemirror_mode": {
    "name": "ipython",
    "version": 3
   },
   "file_extension": ".py",
   "mimetype": "text/x-python",
   "name": "python",
   "nbconvert_exporter": "python",
   "pygments_lexer": "ipython3",
   "version": "3.12.1"
  }
 },
 "nbformat": 4,
 "nbformat_minor": 5
}
